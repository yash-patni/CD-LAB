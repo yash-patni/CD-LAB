{
  "nbformat": 4,
  "nbformat_minor": 0,
  "metadata": {
    "colab": {
      "provenance": []
    },
    "kernelspec": {
      "name": "python3",
      "display_name": "Python 3"
    },
    "language_info": {
      "name": "python"
    }
  },
  "cells": [
    {
      "cell_type": "code",
      "source": [
        "class Node:\n",
        "    def __init__(self, op, labels, cost, l=None, r=None):\n",
        "        self.l = l\n",
        "        self.r = r\n",
        "        self.op = op\n",
        "        self.labels = labels\n",
        "        self.cost = cost\n",
        "\n",
        "class Stack:\n",
        "    def __init__(self):\n",
        "        self.items = []\n",
        "\n",
        "    def push(self, item):\n",
        "        self.items.append(item)\n",
        "\n",
        "    def pop(self):\n",
        "        return self.items.pop(0)\n",
        "\n",
        "    def peek(self):\n",
        "        return self.items[0]\n",
        "\n",
        "    def swap(self):\n",
        "        temp = self.items[0]\n",
        "        self.items[0] = self.items[1]\n",
        "        self.items[1] = temp\n",
        "\n",
        "def get_instr(sym):\n",
        "    if sym == '-':\n",
        "        return 'SUB'\n",
        "    if sym == '+':\n",
        "        return 'ADD'\n",
        "\n",
        "root = Node('-', ['t4'], 2)\n",
        "n1 = Node('+', ['t1'], 1, Node('a', ['a'], 1), Node('b', ['b'], 0))\n",
        "n2 = Node('+', ['t2'], 1, Node('c', ['c'], 1), Node('d', ['d'], 0))\n",
        "n3 = Node('-', ['t3'], 2, Node('e', ['e'], 1), n2)\n",
        "root.l = n1\n",
        "root.r = n3\n",
        "reg_count = 2\n",
        "code = []\n",
        "reg_stack = Stack()\n",
        "reg_stack.push('R0')\n",
        "reg_stack.push('R1')\n",
        "\n",
        "def codegen(node):\n",
        "    if node.l is None and node.r is None:\n",
        "        code.append(f\"MOV {node.op},{reg_stack.peek()}\")\n",
        "        return\n",
        "\n",
        "    if node.r.cost == 0:\n",
        "        codegen(node.l)\n",
        "        code.append(f\"{get_instr(node.op)} {node.r.op},{reg_stack.peek()}\")\n",
        "        return\n",
        "\n",
        "    if node.r.cost > node.l.cost and node.l.cost < reg_count:\n",
        "        reg_stack.swap()\n",
        "        codegen(node.r)\n",
        "        top = reg_stack.pop()\n",
        "        codegen(node.l)\n",
        "        code.append(f\"{get_instr(node.op)} {top},{reg_stack.peek()}\")\n",
        "        reg_stack.push(top)\n",
        "        reg_stack.swap()\n",
        "        return\n",
        "\n",
        "    if node.r.cost <= node.l.cost and node.l.cost < reg_count:\n",
        "        codegen(node.l)\n",
        "        top = reg_stack.pop()\n",
        "        codegen(node.r)\n",
        "        code.append(f\"{get_instr(node.op)} {reg_stack.peek()},{top}\")\n",
        "        reg_stack.push(top)\n",
        "        return"
      ],
      "metadata": {
        "id": "YsctbUO77MlT"
      },
      "execution_count": null,
      "outputs": []
    },
    {
      "cell_type": "code",
      "source": [
        "codegen(root)\n",
        "for instruction in code:\n",
        "  print(' '.join(instruction))"
      ],
      "metadata": {
        "colab": {
          "base_uri": "https://localhost:8080/"
        },
        "id": "m-45kvO07NR2",
        "outputId": "a2094094-0a34-479d-98fb-19b5e6de37c7"
      },
      "execution_count": null,
      "outputs": [
        {
          "output_type": "stream",
          "name": "stdout",
          "text": [
            "M O V   e , R 1\n",
            "M O V   c , R 0\n",
            "A D D   d , R 0\n",
            "S U B   R 0 , R 1\n",
            "M O V   a , R 1\n",
            "A D D   b , R 1\n",
            "S U B   R 0 , R 1\n"
          ]
        }
      ]
    },
    {
      "cell_type": "code",
      "source": [
        "class Node:\n",
        "    def __init__(self, op, labels, cost, l=None, r=None):\n",
        "        self.l = l\n",
        "        self.r = r\n",
        "        self.op = op\n",
        "        self.labels = labels\n",
        "        self.cost = cost\n",
        "\n",
        "class Stack:\n",
        "    def __init__(self):\n",
        "        self.items = []\n",
        "\n",
        "    def push(self, item):\n",
        "        self.items.append(item)\n",
        "\n",
        "    def pop(self):\n",
        "        return self.items.pop(0)\n",
        "\n",
        "    def peek(self):\n",
        "        return self.items[0]\n",
        "\n",
        "    def swap(self):\n",
        "        self.items[0], self.items[1] = self.items[1], self.items[0]\n",
        "\n",
        "def get_instr(sym):\n",
        "    if sym == '-':\n",
        "        return 'SUB'\n",
        "    if sym == '+':\n",
        "        return 'ADD'\n",
        "\n",
        "root = Node('-', ['t4'], 2)\n",
        "n1 = Node('+', ['t1'], 1, Node('a', ['a'], 1), Node('b', ['b'], 0))\n",
        "n2 = Node('+', ['t2'], 1, Node('c', ['c'], 1), Node('d', ['d'], 0))\n",
        "n3 = Node('-', ['t3'], 2, Node('e', ['e'], 1), n2)\n",
        "root.l = n1\n",
        "root.r = n3\n",
        "\n",
        "reg_count = 2\n",
        "code = []\n",
        "reg_stack = Stack()\n",
        "reg_stack.push('R0')\n",
        "reg_stack.push('R1')\n",
        "\n",
        "def codegen(node):\n",
        "    if node.l is None and node.r is None:\n",
        "        code.append(f\"MOV {node.op},{reg_stack.peek()}\")\n",
        "        return\n",
        "\n",
        "    if node.r.cost == 0:\n",
        "        codegen(node.l)\n",
        "        code.append(f\"{get_instr(node.op)} {node.r.op},{reg_stack.peek()}\")\n",
        "        return\n",
        "\n",
        "    if node.r.cost > node.l.cost and node.l.cost < reg_count:\n",
        "        codegen(node.r)\n",
        "        top = reg_stack.pop()\n",
        "        codegen(node.l)\n",
        "        code.append(f\"{get_instr(node.op)} {top},{reg_stack.peek()}\")\n",
        "        reg_stack.push(top)\n",
        "        reg_stack.swap()\n",
        "        return\n",
        "\n",
        "    if node.r.cost <= node.l.cost and node.l.cost < reg_count:\n",
        "        codegen(node.l)\n",
        "        top = reg_stack.pop()\n",
        "        codegen(node.r)\n",
        "        code.append(f\"{get_instr(node.op)} {reg_stack.peek()},{top}\")\n",
        "        reg_stack.push(top)\n",
        "        return\n",
        "\n",
        "codegen(root)\n",
        "print(\"\\n\".join(code))"
      ],
      "metadata": {
        "colab": {
          "base_uri": "https://localhost:8080/"
        },
        "id": "6w181nte7R1x",
        "outputId": "d2b7ef48-fd9b-4fcd-dc94-2dec14c77624"
      },
      "execution_count": null,
      "outputs": [
        {
          "output_type": "stream",
          "name": "stdout",
          "text": [
            "MOV e,R0\n",
            "MOV c,R1\n",
            "ADD d,R1\n",
            "SUB R1,R0\n",
            "MOV a,R0\n",
            "ADD b,R0\n",
            "SUB R1,R0\n"
          ]
        }
      ]
    },
    {
      "cell_type": "code",
      "source": [],
      "metadata": {
        "id": "beQ0WfcICC-L"
      },
      "execution_count": null,
      "outputs": []
    }
  ]
}